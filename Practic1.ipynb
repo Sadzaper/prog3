{
 "cells": [
  {
   "cell_type": "code",
   "execution_count": null,
   "id": "d4d28820",
   "metadata": {},
   "outputs": [],
   "source": [
    "##Escribir un programa que imprima\n",
    "nombre = input(\"Ingrese su nombre: \")\n",
    "edad = input(\"Ingrese su edad: \")\n",
    "\n",
    "print(f\"Mi nombre es {nombre} y tengo {edad} años\")"
   ]
  }
 ],
 "metadata": {
  "kernelspec": {
   "display_name": "Python 3 (ipykernel)",
   "language": "python",
   "name": "python3"
  },
  "language_info": {
   "codemirror_mode": {
    "name": "ipython",
    "version": 3
   },
   "file_extension": ".py",
   "mimetype": "text/x-python",
   "name": "python",
   "nbconvert_exporter": "python",
   "pygments_lexer": "ipython3",
   "version": "3.11.5"
  }
 },
 "nbformat": 4,
 "nbformat_minor": 5
}
