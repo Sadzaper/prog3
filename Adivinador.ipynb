{
 "cells": [
  {
   "cell_type": "code",
   "execution_count": null,
   "metadata": {
    "colab": {
     "base_uri": "https://localhost:8080/"
    },
    "id": "M3EyAf90CfA5",
    "outputId": "887df392-6542-417e-d34b-0dfcf8e5c2e2"
   },
   "outputs": [
    {
     "name": "stdout",
     "output_type": "stream",
     "text": [
      "Hola mundo\n"
     ]
    }
   ],
   "source": [
    "print ('Hola mundo')"
   ]
  },
  {
   "cell_type": "code",
   "execution_count": null,
   "metadata": {
    "colab": {
     "base_uri": "https://localhost:8080/"
    },
    "id": "AevBZtmIDRbp",
    "outputId": "042392a5-d207-44ba-ef90-d7e24758bf49"
   },
   "outputs": [
    {
     "name": "stdout",
     "output_type": "stream",
     "text": [
      "Brasil gano 5 titulos mundiales de futbol\n"
     ]
    }
   ],
   "source": [
    "print('Brasil gano 5 titulos mundiales de futbol')"
   ]
  },
  {
   "cell_type": "code",
   "execution_count": null,
   "metadata": {
    "colab": {
     "base_uri": "https://localhost:8080/"
    },
    "id": "vP2xEfAnDkba",
    "outputId": "5ff379ce-ac3a-42f4-ddf3-b152899a3e2f"
   },
   "outputs": [
    {
     "name": "stdout",
     "output_type": "stream",
     "text": [
      "Brasil-gano-5-titulos mundiales-de futbol\n"
     ]
    }
   ],
   "source": [
    "print('Brasil', 'gano',5,'titulos mundiales','de futbol', sep='-')"
   ]
  },
  {
   "cell_type": "code",
   "execution_count": null,
   "metadata": {
    "colab": {
     "base_uri": "https://localhost:8080/"
    },
    "id": "izzTmLZ5D9sw",
    "outputId": "8244e0ce-d74c-4a40-bf92-a6240dd889ab"
   },
   "outputs": [
    {
     "name": "stdout",
     "output_type": "stream",
     "text": [
      "Brasil gano 5 titulos mundiales de futbol\n"
     ]
    }
   ],
   "source": [
    "print('Brasil', 'ganó',5,'titulos mundiales','de futbol', sep='\\n')"
   ]
  },
  {
   "cell_type": "code",
   "execution_count": null,
   "metadata": {
    "colab": {
     "base_uri": "https://localhost:8080/"
    },
    "id": "j2OIWhDnEJ6a",
    "outputId": "c35e4b47-10a4-4da2-eb2f-52b19bed8f79"
   },
   "outputs": [
    {
     "name": "stdout",
     "output_type": "stream",
     "text": [
      "Brasil ganó 5 titulos mundiales de fútbol"
     ]
    }
   ],
   "source": [
    "print('Brasil','ganó',5,'titulos mundiales','de fútbol', end='')"
   ]
  },
  {
   "cell_type": "code",
   "execution_count": null,
   "metadata": {
    "colab": {
     "base_uri": "https://localhost:8080/"
    },
    "id": "tfjz5Lc-EleJ",
    "outputId": "03c25e0f-8b2f-48b7-c6cb-22f566f3c515"
   },
   "outputs": [
    {
     "data": {
      "text/plain": [
       "str"
      ]
     },
     "execution_count": 9,
     "metadata": {},
     "output_type": "execute_result"
    }
   ],
   "source": [
    "pais='Italia'\n",
    "type(pais)"
   ]
  },
  {
   "cell_type": "code",
   "execution_count": null,
   "metadata": {
    "colab": {
     "base_uri": "https://localhost:8080/"
    },
    "id": "Hl30PQODEunV",
    "outputId": "a2eea8be-22f6-4584-9a6e-171a7b851e4e"
   },
   "outputs": [
    {
     "data": {
      "text/plain": [
       "int"
      ]
     },
     "execution_count": 10,
     "metadata": {},
     "output_type": "execute_result"
    }
   ],
   "source": [
    "cantidad=4\n",
    "type(cantidad)"
   ]
  },
  {
   "cell_type": "code",
   "execution_count": null,
   "metadata": {
    "colab": {
     "base_uri": "https://localhost:8080/"
    },
    "id": "jQoF4MunE1Jm",
    "outputId": "8209f56f-3d84-42fe-ea5f-0f77de5a2ef6"
   },
   "outputs": [
    {
     "name": "stdout",
     "output_type": "stream",
     "text": [
      "Italia gano 4 titulos mundiales de futbol\n"
     ]
    }
   ],
   "source": [
    "print(pais,'gano',cantidad,'titulos mundiales de futbol')"
   ]
  },
  {
   "cell_type": "code",
   "execution_count": null,
   "metadata": {
    "colab": {
     "base_uri": "https://localhost:8080/"
    },
    "id": "lWavsSAhFCc4",
    "outputId": "fd64342c-1bdc-4f5a-8881-7cf9c75f06c1"
   },
   "outputs": [
    {
     "data": {
      "text/plain": [
       "list"
      ]
     },
     "execution_count": 15,
     "metadata": {},
     "output_type": "execute_result"
    }
   ],
   "source": [
    "pais=[]\n",
    "type(pais)"
   ]
  },
  {
   "cell_type": "code",
   "execution_count": null,
   "metadata": {
    "colab": {
     "base_uri": "https://localhost:8080/"
    },
    "id": "TeujMEhKFHdx",
    "outputId": "1a574da6-41cb-424c-ddf7-579492f49da8"
   },
   "outputs": [
    {
     "data": {
      "text/plain": [
       "int"
      ]
     },
     "execution_count": 17,
     "metadata": {},
     "output_type": "execute_result"
    }
   ],
   "source": [
    "pais=\"Bolivia\"\n",
    "pais=644\n",
    "type(pais)"
   ]
  },
  {
   "cell_type": "code",
   "execution_count": null,
   "metadata": {
    "colab": {
     "base_uri": "https://localhost:8080/"
    },
    "id": "v2kurWKWGRCP",
    "outputId": "d3516e2d-2da2-4b8b-f122-5e2fe36d68d7"
   },
   "outputs": [
    {
     "data": {
      "text/plain": [
       "float"
      ]
     },
     "execution_count": 18,
     "metadata": {},
     "output_type": "execute_result"
    }
   ],
   "source": [
    "pais=7.9\n",
    "type(pais)"
   ]
  },
  {
   "cell_type": "code",
   "execution_count": null,
   "metadata": {
    "colab": {
     "base_uri": "https://localhost:8080/"
    },
    "id": "vBrX1NrbGWWP",
    "outputId": "2c3e5207-1226-4816-adac-647c08f93032"
   },
   "outputs": [
    {
     "name": "stdout",
     "output_type": "stream",
     "text": [
      "====================================\n",
      "Bienvenido al juego de la Adivinanza\n",
      "====================================\n",
      "Digite un número 77\n",
      "Digitaste... 77\n",
      "Felicitaciones !!! ... adivinaste el número\n",
      "Game Over\n"
     ]
    }
   ],
   "source": [
    "print('====================================')\n",
    "print('Bienvenido al juego de la Adivinanza')\n",
    "print('====================================')\n",
    "\n",
    "numero_secreto = 77\n",
    "\n",
    "entrada = input('Digite un número ')\n",
    "entrada =int(entrada)\n",
    "\n",
    "print('Digitaste...',entrada)\n",
    "\n",
    "if(entrada == numero_secreto):\n",
    "  print('Felicitaciones !!! ... adivinaste el número')\n",
    "else:\n",
    "  print('Losiento... no lograste adivinar el numero')\n",
    "\n",
    "print('Game Over')"
   ]
  },
  {
   "cell_type": "code",
   "execution_count": null,
   "metadata": {
    "colab": {
     "base_uri": "https://localhost:8080/"
    },
    "id": "2rg_DBlNJg8G",
    "outputId": "e6acf3de-c67a-4a17-a5a2-e98e7be55799"
   },
   "outputs": [
    {
     "data": {
      "text/plain": [
       "int"
      ]
     },
     "execution_count": 24,
     "metadata": {},
     "output_type": "execute_result"
    }
   ],
   "source": [
    "type(numero_secreto)"
   ]
  },
  {
   "cell_type": "code",
   "execution_count": null,
   "metadata": {
    "colab": {
     "base_uri": "https://localhost:8080/"
    },
    "id": "hF_9xQMEJmJ8",
    "outputId": "40597b01-3e37-44f0-d7c5-a333497516bc"
   },
   "outputs": [
    {
     "data": {
      "text/plain": [
       "int"
      ]
     },
     "execution_count": 27,
     "metadata": {},
     "output_type": "execute_result"
    }
   ],
   "source": [
    "type(entrada)"
   ]
  },
  {
   "cell_type": "markdown",
   "metadata": {
    "id": "jvQoIAoVLFd9"
   },
   "source": [
    "##Guiar al usuario si el numero ingresado fue mayor o menor al número que se tiene que adivinar"
   ]
  },
  {
   "cell_type": "code",
   "execution_count": null,
   "metadata": {
    "id": "SBEzSPgJLWwy"
   },
   "outputs": [],
   "source": [
    "print('====================================')\n",
    "print('Bienvenido al juego de la Adivinanza')\n",
    "print('====================================')\n",
    "\n",
    "numero_secreto = 77\n",
    "\n",
    "entrada = input('Digite un número ')\n",
    "entrada =int(entrada)\n",
    "\n",
    "print('Digitaste...',entrada)\n",
    "\n",
    "acertaste=numero_secreto == entrada\n",
    "mayor=numero_secreto < entrada\n",
    "menor=numero_secreto > entrada\n",
    "\n",
    "if(acertaste):\n",
    "  print('Felicitaciones !!! ... adivinaste el número')\n",
    "elif(mayor):\n",
    "  print('Losiento... el numero es alto')\n",
    "else():\n",
    "  print('Losiento... el numero es bajo')\n",
    "print('Game Over')"
   ]
  },
  {
   "cell_type": "markdown",
   "metadata": {
    "id": "wcq6hXkvPLWv"
   },
   "source": [
    "##Implementar interaciones"
   ]
  },
  {
   "cell_type": "code",
   "execution_count": null,
   "metadata": {
    "id": "gt5Jv2LEQxZb"
   },
   "outputs": [],
   "source": [
    "print('====================================')\n",
    "print('Bienvenido al juego de la Adivinanza')\n",
    "print('====================================')\n",
    "\n",
    "numero_secreto = 77\n",
    "\n",
    "entrada = input('Digite un número ')\n",
    "entrada =int(entrada)\n",
    "\n",
    "total_de_interacion=3\n",
    "\n",
    "print('Digitaste...',entrada)\n",
    "\n",
    "if(entrada == numero_secreto):\n",
    "  print('Felicitaciones !!! ... adivinaste el número')\n",
    "else:\n",
    "  print('Losiento... no lograste adivinar el numero')\n",
    "\n",
    "print('Game Over')"
   ]
  },
  {
   "cell_type": "markdown",
   "metadata": {
    "id": "RUSkC8lVSgKj"
   },
   "source": [
    "##Mejorando aun el codigo"
   ]
  },
  {
   "cell_type": "code",
   "execution_count": null,
   "metadata": {
    "id": "ybKY6MDgSswu"
   },
   "outputs": [],
   "source": [
    "print('====================================')\n",
    "print('Bienvenido al juego de la Adivinanza')\n",
    "print('====================================')\n",
    "\n",
    "numero_secreto = 77\n",
    "total_intentos=3\n",
    "interaccion=1\n",
    "\n",
    "while(interacion<=total_intentos):\n",
    "  print('intento:{}de{}'. format(interaccion,total_intentos))\n",
    "  entrada = imput('Digite un numero')\n",
    "\n",
    "acertaste= numero_secreto == entrada\n",
    "mayor= entrada < numero_secreto\n",
    "menor=entrada > numero_secreto\n",
    "\n",
    "entrada = input('Digite un número ')\n",
    "entrada =int(entrada)\n",
    "\n",
    "print('Digitaste...',entrada)\n",
    "\n",
    "\n",
    "if(acertaste):\n",
    "  print('Felicitaciones !!! ... adivinaste el número')\n",
    "elif(mayor):\n",
    "  print('Losiento... el numero es alto')\n",
    "else:\n",
    "  print('Losiento... el numero es bajo')\n",
    "print('Game Over')"
   ]
  },
  {
   "cell_type": "markdown",
   "metadata": {
    "id": "HB3Gn2cUUE0u"
   },
   "source": [
    "##Loop"
   ]
  },
  {
   "cell_type": "code",
   "execution_count": null,
   "metadata": {
    "colab": {
     "base_uri": "https://localhost:8080/"
    },
    "id": "jTfdF5_HUHvI",
    "outputId": "711cd38b-90e7-4157-9423-6d2148e6e916"
   },
   "outputs": [
    {
     "name": "stdout",
     "output_type": "stream",
     "text": [
      "====================================\n",
      "Bienvenido al juego de la Adivinanza\n",
      "====================================\n",
      "Intento:1 de 3\n",
      "Digite un numero entre 1 y 10035\n",
      "Intento:2 de 3\n",
      "Digite un numero entre 1 y 10077\n",
      "Intento:3 de 3\n",
      "Digite un numero entre 1 y 10021\n",
      "Losiento... el numero es alto\n",
      "Game Over\n"
     ]
    }
   ],
   "source": [
    "print('====================================')\n",
    "print('Bienvenido al juego de la Adivinanza')\n",
    "print('====================================')\n",
    "\n",
    "numero_secreto = 77\n",
    "total_intentos=3\n",
    "\n",
    "for interacion in range (1, total_intentos +1):\n",
    "  print('Intento:{} de {}'.format(interacion,total_intentos))\n",
    "  entrada = input('Digite un numero entre 1 y 100')\n",
    "  entrada= int(entrada)\n",
    "  print('digitase...', entrada)\n",
    "  if(entrada<1 or entrada >100):\n",
    "    print ('ingresa un numero entre 1 y 100')\n",
    "    continue\n",
    "\n",
    "acertaste=  entrada  == numero_secreto\n",
    "mayor= entrada < numero_secreto\n",
    "menor=entrada > numero_secreto\n",
    "\n",
    "if(acertaste):\n",
    "  print('Felicitaciones !!! ... adivinaste el número')\n",
    "elif(mayor):\n",
    "  print('Losiento... el numero es alto')\n",
    "else:\n",
    "  print('Losiento... el numero es bajo')\n",
    "print('Game Over')"
   ]
  },
  {
   "cell_type": "markdown",
   "metadata": {
    "id": "OzlflbDbV_16"
   },
   "source": [
    "##Generara un numero aleatorio"
   ]
  },
  {
   "cell_type": "code",
   "execution_count": null,
   "metadata": {
    "colab": {
     "base_uri": "https://localhost:8080/"
    },
    "id": "pdb1Vjn4WGLg",
    "outputId": "85472ac5-a2a2-4119-f6df-c4977b4f1992"
   },
   "outputs": [
    {
     "data": {
      "text/plain": [
       "0.4263478186972355"
      ]
     },
     "execution_count": 39,
     "metadata": {},
     "output_type": "execute_result"
    }
   ],
   "source": [
    "# generar numero ramdom\n",
    "import random\n",
    "random.random()"
   ]
  },
  {
   "cell_type": "code",
   "execution_count": null,
   "metadata": {
    "colab": {
     "base_uri": "https://localhost:8080/"
    },
    "id": "DjDOVSGDWg-X",
    "outputId": "92b370fe-ca65-46d7-e9a5-c2b66b5501f0"
   },
   "outputs": [
    {
     "data": {
      "text/plain": [
       "0.13905409800644897"
      ]
     },
     "execution_count": 41,
     "metadata": {},
     "output_type": "execute_result"
    }
   ],
   "source": [
    "random.random()"
   ]
  },
  {
   "cell_type": "code",
   "execution_count": null,
   "metadata": {
    "colab": {
     "base_uri": "https://localhost:8080/"
    },
    "id": "RoTWjDDjWzBJ",
    "outputId": "78a7a446-200a-42bc-f0e9-b05c5d9daf08"
   },
   "outputs": [
    {
     "data": {
      "text/plain": [
       "93.66310813199973"
      ]
     },
     "execution_count": 42,
     "metadata": {},
     "output_type": "execute_result"
    }
   ],
   "source": [
    "#generar un numero random entre 1 y 100\n",
    "numero_random= random.random()*100\n",
    "numero_random"
   ]
  },
  {
   "cell_type": "code",
   "execution_count": null,
   "metadata": {
    "colab": {
     "base_uri": "https://localhost:8080/"
    },
    "id": "5yx2oHNgXAsR",
    "outputId": "27aa489f-af63-4e8b-9ce0-fb35a9ed3954"
   },
   "outputs": [
    {
     "data": {
      "text/plain": [
       "17"
      ]
     },
     "execution_count": 43,
     "metadata": {},
     "output_type": "execute_result"
    }
   ],
   "source": [
    "#generar un numero random entre 1 y 100\n",
    "numero_random= round(random.random()*100)\n",
    "numero_random"
   ]
  },
  {
   "cell_type": "code",
   "execution_count": null,
   "metadata": {
    "colab": {
     "base_uri": "https://localhost:8080/"
    },
    "id": "Cq3O3Hb6XbE0",
    "outputId": "a5b65cec-6d1f-4e6d-cfa7-32d370e9cac6"
   },
   "outputs": [
    {
     "data": {
      "text/plain": [
       "27"
      ]
     },
     "execution_count": 44,
     "metadata": {},
     "output_type": "execute_result"
    }
   ],
   "source": [
    "#generar un numero random entre 1 y 100\n",
    "numero_random= random.randrange(1,101)\n",
    "numero_random"
   ]
  },
  {
   "cell_type": "code",
   "execution_count": null,
   "metadata": {
    "id": "SVAsbZzEXo-3"
   },
   "outputs": [],
   "source": [
    "\n"
   ]
  },
  {
   "cell_type": "markdown",
   "metadata": {
    "id": "QFQIQLOnYY5i"
   },
   "source": [
    "##Mejorando el codigo"
   ]
  },
  {
   "cell_type": "code",
   "execution_count": null,
   "metadata": {
    "colab": {
     "base_uri": "https://localhost:8080/",
     "height": 478
    },
    "id": "9bZkqbabYepP",
    "outputId": "cc1ec586-f00b-4f07-c350-2b83edfa6197"
   },
   "outputs": [
    {
     "name": "stdout",
     "output_type": "stream",
     "text": [
      "====================================\n",
      "Bienvenido al juego de la Adivinanza\n",
      "====================================\n",
      "Intento:1 de 3\n",
      "Digite un numero entre 1 y 10015\n",
      "digitase... 15\n",
      "Intento:2 de 3\n"
     ]
    },
    {
     "ename": "KeyboardInterrupt",
     "evalue": "Interrupted by user",
     "output_type": "error",
     "traceback": [
      "\u001b[0;31m---------------------------------------------------------------------------\u001b[0m",
      "\u001b[0;31mKeyboardInterrupt\u001b[0m                         Traceback (most recent call last)",
      "\u001b[0;32m<ipython-input-48-a426225fe5fe>\u001b[0m in \u001b[0;36m<cell line: 9>\u001b[0;34m()\u001b[0m\n\u001b[1;32m      9\u001b[0m \u001b[0;32mfor\u001b[0m \u001b[0minteracion\u001b[0m \u001b[0;32min\u001b[0m \u001b[0mrange\u001b[0m \u001b[0;34m(\u001b[0m\u001b[0;36m1\u001b[0m\u001b[0;34m,\u001b[0m \u001b[0mtotal_intentos\u001b[0m \u001b[0;34m+\u001b[0m\u001b[0;36m1\u001b[0m\u001b[0;34m)\u001b[0m\u001b[0;34m:\u001b[0m\u001b[0;34m\u001b[0m\u001b[0;34m\u001b[0m\u001b[0m\n\u001b[1;32m     10\u001b[0m   \u001b[0mprint\u001b[0m\u001b[0;34m(\u001b[0m\u001b[0;34m'Intento:{} de {}'\u001b[0m\u001b[0;34m.\u001b[0m\u001b[0mformat\u001b[0m\u001b[0;34m(\u001b[0m\u001b[0minteracion\u001b[0m\u001b[0;34m,\u001b[0m\u001b[0mtotal_intentos\u001b[0m\u001b[0;34m)\u001b[0m\u001b[0;34m)\u001b[0m\u001b[0;34m\u001b[0m\u001b[0;34m\u001b[0m\u001b[0m\n\u001b[0;32m---> 11\u001b[0;31m   \u001b[0mentrada\u001b[0m \u001b[0;34m=\u001b[0m \u001b[0minput\u001b[0m\u001b[0;34m(\u001b[0m\u001b[0;34m'Digite un numero entre 1 y 100'\u001b[0m\u001b[0;34m)\u001b[0m\u001b[0;34m\u001b[0m\u001b[0;34m\u001b[0m\u001b[0m\n\u001b[0m\u001b[1;32m     12\u001b[0m   \u001b[0mentrada\u001b[0m\u001b[0;34m=\u001b[0m \u001b[0mint\u001b[0m\u001b[0;34m(\u001b[0m\u001b[0mentrada\u001b[0m\u001b[0;34m)\u001b[0m\u001b[0;34m\u001b[0m\u001b[0;34m\u001b[0m\u001b[0m\n\u001b[1;32m     13\u001b[0m   \u001b[0mprint\u001b[0m\u001b[0;34m(\u001b[0m\u001b[0;34m'digitase...'\u001b[0m\u001b[0;34m,\u001b[0m \u001b[0mentrada\u001b[0m\u001b[0;34m)\u001b[0m\u001b[0;34m\u001b[0m\u001b[0;34m\u001b[0m\u001b[0m\n",
      "\u001b[0;32m/usr/local/lib/python3.10/dist-packages/ipykernel/kernelbase.py\u001b[0m in \u001b[0;36mraw_input\u001b[0;34m(self, prompt)\u001b[0m\n\u001b[1;32m    849\u001b[0m                 \u001b[0;34m\"raw_input was called, but this frontend does not support input requests.\"\u001b[0m\u001b[0;34m\u001b[0m\u001b[0;34m\u001b[0m\u001b[0m\n\u001b[1;32m    850\u001b[0m             )\n\u001b[0;32m--> 851\u001b[0;31m         return self._input_request(str(prompt),\n\u001b[0m\u001b[1;32m    852\u001b[0m             \u001b[0mself\u001b[0m\u001b[0;34m.\u001b[0m\u001b[0m_parent_ident\u001b[0m\u001b[0;34m,\u001b[0m\u001b[0;34m\u001b[0m\u001b[0;34m\u001b[0m\u001b[0m\n\u001b[1;32m    853\u001b[0m             \u001b[0mself\u001b[0m\u001b[0;34m.\u001b[0m\u001b[0m_parent_header\u001b[0m\u001b[0;34m,\u001b[0m\u001b[0;34m\u001b[0m\u001b[0;34m\u001b[0m\u001b[0m\n",
      "\u001b[0;32m/usr/local/lib/python3.10/dist-packages/ipykernel/kernelbase.py\u001b[0m in \u001b[0;36m_input_request\u001b[0;34m(self, prompt, ident, parent, password)\u001b[0m\n\u001b[1;32m    893\u001b[0m             \u001b[0;32mexcept\u001b[0m \u001b[0mKeyboardInterrupt\u001b[0m\u001b[0;34m:\u001b[0m\u001b[0;34m\u001b[0m\u001b[0;34m\u001b[0m\u001b[0m\n\u001b[1;32m    894\u001b[0m                 \u001b[0;31m# re-raise KeyboardInterrupt, to truncate traceback\u001b[0m\u001b[0;34m\u001b[0m\u001b[0;34m\u001b[0m\u001b[0m\n\u001b[0;32m--> 895\u001b[0;31m                 \u001b[0;32mraise\u001b[0m \u001b[0mKeyboardInterrupt\u001b[0m\u001b[0;34m(\u001b[0m\u001b[0;34m\"Interrupted by user\"\u001b[0m\u001b[0;34m)\u001b[0m \u001b[0;32mfrom\u001b[0m \u001b[0;32mNone\u001b[0m\u001b[0;34m\u001b[0m\u001b[0;34m\u001b[0m\u001b[0m\n\u001b[0m\u001b[1;32m    896\u001b[0m             \u001b[0;32mexcept\u001b[0m \u001b[0mException\u001b[0m \u001b[0;32mas\u001b[0m \u001b[0me\u001b[0m\u001b[0;34m:\u001b[0m\u001b[0;34m\u001b[0m\u001b[0;34m\u001b[0m\u001b[0m\n\u001b[1;32m    897\u001b[0m                 \u001b[0mself\u001b[0m\u001b[0;34m.\u001b[0m\u001b[0mlog\u001b[0m\u001b[0;34m.\u001b[0m\u001b[0mwarning\u001b[0m\u001b[0;34m(\u001b[0m\u001b[0;34m\"Invalid Message:\"\u001b[0m\u001b[0;34m,\u001b[0m \u001b[0mexc_info\u001b[0m\u001b[0;34m=\u001b[0m\u001b[0;32mTrue\u001b[0m\u001b[0;34m)\u001b[0m\u001b[0;34m\u001b[0m\u001b[0;34m\u001b[0m\u001b[0m\n",
      "\u001b[0;31mKeyboardInterrupt\u001b[0m: Interrupted by user"
     ]
    }
   ],
   "source": [
    "import random\n",
    "print('====================================')\n",
    "print('Bienvenido al juego de la Adivinanza')\n",
    "print('====================================')\n",
    "\n",
    "numero_secreto = random.randrange(1,101)\n",
    "tottal_intentos=15\n",
    "\n",
    "for interacion in range (1, total_intentos +1):\n",
    "  print('Intento:{} de {}'.format(interacion,total_intentos))\n",
    "  entrada = input('Digite un numero entre 1 y 100 ')\n",
    "  entrada= int(entrada)\n",
    "  print('digitase...', entrada)\n",
    "  if(entrada < 1 or entrada >100):\n",
    "    print ('ingresa un numero entre 1 y 100')\n",
    "    continue\n",
    "\n",
    "acertaste=  entrada  == numero_secreto\n",
    "mayor= entrada > numero_secreto\n",
    "menor=entrada < numero_secreto\n",
    "\n",
    "if(acertaste):\n",
    "  print('Felicitaciones !!! ... adivinaste el número')\n",
    "elif(mayor):\n",
    "  print('Losiento... el numero es alto')\n",
    "else:\n",
    "  print('Losiento... el numero es bajo')\n",
    "print('Game Over')"
   ]
  },
  {
   "cell_type": "markdown",
   "metadata": {
    "id": "xpC9IiwVawfJ"
   },
   "source": [
    "##dificulta"
   ]
  },
  {
   "cell_type": "code",
   "execution_count": 23,
   "metadata": {
    "colab": {
     "base_uri": "https://localhost:8080/"
    },
    "id": "gm_lmP5Oayzr",
    "outputId": "32462467-7ced-4d81-92cf-f97e776f8854"
   },
   "outputs": [
    {
     "ename": "IndentationError",
     "evalue": "unexpected indent (166917267.py, line 28)",
     "output_type": "error",
     "traceback": [
      "\u001b[1;36m  Cell \u001b[1;32mIn[23], line 28\u001b[1;36m\u001b[0m\n\u001b[1;33m    acertaste = entrada ==numero_secreto #iguales\u001b[0m\n\u001b[1;37m    ^\u001b[0m\n\u001b[1;31mIndentationError\u001b[0m\u001b[1;31m:\u001b[0m unexpected indent\n"
     ]
    }
   ],
   "source": [
    "import random\n",
    "print(\"===================================\")\n",
    "print(\"Welcome to the game of adivinanzas\")\n",
    "print(\"===================================\")\n",
    "\n",
    "numero_secreto = random.randrange(1,101)\n",
    "\n",
    "print(\"Seleccione el nivel de dificultad\")\n",
    "print(\"(1)Facil  (2)Medio   (3)Dificl\")\n",
    "nivel = int(input(\"ingrese el nivel de dificultad: \"))\n",
    "\n",
    "if(nivel==1):\n",
    "  total_intentos=3\n",
    "elif(nivel==2):\n",
    "  total_intentos=2\n",
    "else:\n",
    "  total_intentos=1\n",
    "\n",
    "for iteracion in range(1,total_intentos+1):\n",
    "   print(\"Intento: {} de {}\".format(iteracion,total_intentos))\n",
    "   entrada=int (input(\"Digite un numero\"))\n",
    "\n",
    "   print(\"Digitaste . . .\", entrada)\n",
    "   if(entrada<1 or entrada>100):\n",
    "    print(\"Ingresar un numero entre 1 y 100\")\n",
    "    continue\n",
    "\n",
    "      acertaste = entrada ==numero_secreto #iguales\n",
    "      mayor = entrada >numero_secreto#mayor\n",
    "      menor = entrada <numero_secreto#menor\n",
    "\n",
    "\n",
    "    if(acertaste):\n",
    "    print(\"Felicidiades!!. . . adivinaste el numero\")\n",
    "    break\n",
    "    elif(mayor):\n",
    "    print(\"Lo siento el numero que ingresaste es mayor que el numero secreto\")\n",
    "    else:\n",
    "    print(\"lo siento elnumero que ingresdaste es menor que el numero secreto\")\n",
    "\n",
    "    iteracion = iteracion+1\n",
    "\n",
    "print(\"Fin del juego\")"
   ]
  },
  {
   "cell_type": "code",
   "execution_count": null,
   "metadata": {},
   "outputs": [],
   "source": []
  }
 ],
 "metadata": {
  "colab": {
   "collapsed_sections": [
    "jvQoIAoVLFd9",
    "wcq6hXkvPLWv",
    "RUSkC8lVSgKj",
    "OzlflbDbV_16",
    "QFQIQLOnYY5i"
   ],
   "provenance": []
  },
  "kernelspec": {
   "display_name": "Python 3 (ipykernel)",
   "language": "python",
   "name": "python3"
  },
  "language_info": {
   "codemirror_mode": {
    "name": "ipython",
    "version": 3
   },
   "file_extension": ".py",
   "mimetype": "text/x-python",
   "name": "python",
   "nbconvert_exporter": "python",
   "pygments_lexer": "ipython3",
   "version": "3.11.5"
  }
 },
 "nbformat": 4,
 "nbformat_minor": 1
}
